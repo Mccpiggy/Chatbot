{
 "cells": [
  {
   "cell_type": "code",
   "execution_count": 1,
   "metadata": {},
   "outputs": [],
   "source": [
    "from iexfinance import Stock\n",
    "from iexfinance import get_available_symbols"
   ]
  },
  {
   "cell_type": "code",
   "execution_count": 223,
   "metadata": {},
   "outputs": [
    {
     "name": "stdout",
     "output_type": "stream",
     "text": [
      "Fitting 2 folds for each of 6 candidates, totalling 12 fits\n"
     ]
    },
    {
     "name": "stderr",
     "output_type": "stream",
     "text": [
      "/Users/linhefeng/anaconda3/lib/python3.6/site-packages/sklearn/metrics/classification.py:1135: UndefinedMetricWarning: F-score is ill-defined and being set to 0.0 in labels with no predicted samples.\n",
      "  'precision', 'predicted', average, warn_for)\n",
      "/Users/linhefeng/anaconda3/lib/python3.6/site-packages/sklearn/metrics/classification.py:1135: UndefinedMetricWarning: F-score is ill-defined and being set to 0.0 in labels with no predicted samples.\n",
      "  'precision', 'predicted', average, warn_for)\n",
      "/Users/linhefeng/anaconda3/lib/python3.6/site-packages/sklearn/metrics/classification.py:1135: UndefinedMetricWarning: F-score is ill-defined and being set to 0.0 in labels with no predicted samples.\n",
      "  'precision', 'predicted', average, warn_for)\n",
      "/Users/linhefeng/anaconda3/lib/python3.6/site-packages/sklearn/metrics/classification.py:1135: UndefinedMetricWarning: F-score is ill-defined and being set to 0.0 in labels with no predicted samples.\n",
      "  'precision', 'predicted', average, warn_for)\n",
      "/Users/linhefeng/anaconda3/lib/python3.6/site-packages/sklearn/metrics/classification.py:1135: UndefinedMetricWarning: F-score is ill-defined and being set to 0.0 in labels with no predicted samples.\n",
      "  'precision', 'predicted', average, warn_for)\n",
      "/Users/linhefeng/anaconda3/lib/python3.6/site-packages/sklearn/metrics/classification.py:1135: UndefinedMetricWarning: F-score is ill-defined and being set to 0.0 in labels with no predicted samples.\n",
      "  'precision', 'predicted', average, warn_for)\n",
      "[Parallel(n_jobs=1)]: Done  12 out of  12 | elapsed:    0.1s finished\n"
     ]
    }
   ],
   "source": [
    "from rasa_nlu.training_data import load_data\n",
    "from rasa_nlu.config import RasaNLUModelConfig\n",
    "from rasa_nlu.model import Trainer\n",
    "from rasa_nlu import config\n",
    "\n",
    "# Create a trainer that uses this config\n",
    "trainer = Trainer(config.load(\"/Users/linhefeng/config_spacy.yml\"))\n",
    "\n",
    "# Load the training data\n",
    "training_data = load_data('/Users/linhefeng/demo-rasa.json')\n",
    "\n",
    "# Create an interpreter by training the model\n",
    "interpreter = trainer.train(training_data)"
   ]
  },
  {
   "cell_type": "code",
   "execution_count": 118,
   "metadata": {},
   "outputs": [],
   "source": [
    "import re\n",
    "# 用于匹配月和日的正则表达式\n",
    "pattern_day = re.compile('[0-9]{1,2}[a-z]{2}')\n",
    "pattern_num = re.compile('[0-9]{1,2}')\n",
    "pattern_year = re.compile('[0-9]{4}')"
   ]
  },
  {
   "cell_type": "code",
   "execution_count": 119,
   "metadata": {},
   "outputs": [],
   "source": [
    "from iexfinance import get_available_symbols"
   ]
  },
  {
   "cell_type": "code",
   "execution_count": 198,
   "metadata": {},
   "outputs": [],
   "source": [
    "# 常量定义\n",
    "company_dict = {'apple': 'AAPL', 'tesla': 'TSLA', 'microsoft': 'MSFT', 'alcoa': 'AA'}\n",
    "\n",
    "# 月份转换字典\n",
    "month_list = {}\n",
    "month_list['January'] = '1'\n",
    "month_list['February'] = '2'\n",
    "month_list['March'] = '3'\n",
    "month_list['April'] = '4'\n",
    "month_list['May'] = '5'\n",
    "month_list['June'] = '6'\n",
    "month_list['July'] = '7'\n",
    "month_list['August'] = '8'\n",
    "month_list['September'] = '9'\n",
    "month_list['October'] = '10'\n",
    "month_list['November'] = '11'\n",
    "month_list['December'] = '12'\n",
    "\n",
    "INIT = 0\n",
    "CLOSE = 1\n",
    "TIME = 2\n",
    "VOLUME = 3\n",
    "VALUE = 4\n",
    "PRICE = 5\n",
    "\n",
    "# 状态跳转规则\n",
    "policy = {\n",
    "    (INIT, 'close'): (CLOSE, 'Searching...'),\n",
    "    (INIT, 'none'): (INIT, 'You can ask me for what you want.'),\n",
    "    (CLOSE, 'time'): (TIME, 'Searching for details...'),\n",
    "    (CLOSE, 'close'): (CLOSE, 'Searching...'),\n",
    "    (CLOSE, 'deny'): (CLOSE, 'Already delete. Searching...'),\n",
    "    (INIT, 'volume'): (VOLUME, 'Searching...'),\n",
    "    (VOLUME, 'time'): (TIME, 'Searching for details...'),\n",
    "    (VOLUME, 'deny'): (VOLUME, 'Already delete. Searching...'),\n",
    "    (VOLUME, 'volume'): (VOLUME, 'Searching...'),\n",
    "    (INIT, 'value'): (VALUE, 'Searching...'),\n",
    "    (VALUE, 'time'): (TIME, 'Searching for details...'),\n",
    "    (VALUE, 'deny'): (VALUE, 'Already delete. Searching...'),\n",
    "    (VALUE, 'value'): (VALUE, 'Searching...'),\n",
    "    (INIT, 'price'): (PRICE, 'Searching...'),\n",
    "    (PRICE, 'deny'): (PRICE, 'Already delete. Searching...'),\n",
    "    (PRICE, 'price'): (PRICE, 'Searching...')\n",
    "}\n",
    "\n",
    "answer = []"
   ]
  },
  {
   "cell_type": "code",
   "execution_count": 199,
   "metadata": {},
   "outputs": [],
   "source": [
    "# 将message传递给bot\n",
    "def send_message(message, policy, state, params, intent_dict, answer):\n",
    "    print(\"USER : {}\".format(message))\n",
    "    answer = []\n",
    "    new_state, response, params, answer = respond(policy, state, message, params, intent_dict, answer)\n",
    "    return new_state, params, answer\n",
    "\n",
    "# 根据message进行回复\n",
    "def respond(policy, state, message, params, intent_dict, answer):\n",
    "    (new_state, response) = policy[(state, interpret(message))]\n",
    "#     print(\"BOT : {}\".format(response))\n",
    "    answer.append(response)\n",
    "    params, answer = analyse(message, params, intent_dict, answer)\n",
    "    # 默认查询完特定时间的股票信息后，状态重置\n",
    "    empty = {}\n",
    "    if new_state == TIME:\n",
    "        if params == empty:\n",
    "            new_state = INIT\n",
    "        else:\n",
    "            new_state = state\n",
    "    return new_state, response, params, answer\n",
    "\n",
    "# 识别意图并将状态返回\n",
    "def interpret(message):\n",
    "    intent = interpreter.parse(message)['intent']['name']\n",
    "    words = [str(i) for i in message.split()]\n",
    "    for i in range(len(words)):\n",
    "        if words[i] == 'no' or words[i] == 'not':\n",
    "            intent = 'deny'\n",
    "            break\n",
    "        else:\n",
    "            continue\n",
    "    # 根据意图返回对应状态\n",
    "    if intent == 'close':\n",
    "        return 'close'\n",
    "    elif intent == 'time':\n",
    "        return 'time' \n",
    "    elif intent == 'volume':\n",
    "        return 'volume'\n",
    "    elif intent == 'value':\n",
    "        return 'value'\n",
    "    elif intent == 'deny':\n",
    "        return 'deny'\n",
    "    elif intent == 'price':\n",
    "        return 'price'\n",
    "    else:\n",
    "        return 'none'"
   ]
  },
  {
   "cell_type": "code",
   "execution_count": 227,
   "metadata": {
    "scrolled": true
   },
   "outputs": [],
   "source": [
    "from iexfinance import get_historical_data\n",
    "from datetime import datetime\n",
    "\n",
    "# 抽取实体，并对于message进行解析、回复\n",
    "def analyse(message, params, intent_dict, answer):\n",
    "    day = month = 0\n",
    "    year = '2018'\n",
    "    entities = interpreter.parse(message)['entities']\n",
    "    intent = interpreter.parse(message)['intent']['name']\n",
    "    words = [str(i) for i in message.split()]\n",
    "    for i in range(len(words)):\n",
    "        if words[i] == 'no' or words[i] == 'not':\n",
    "            intent = 'deny'\n",
    "            break\n",
    "        else:\n",
    "            continue\n",
    "    # 查询意图是查询实时股价\n",
    "    if intent == 'price':\n",
    "        for ent in entities:\n",
    "            params[str(ent['entity']) + '_' + str(ent['value'])] = str(ent['value'])\n",
    "        for company in params:\n",
    "            stock_search = Stock(company_dict[str(params[company])])\n",
    "#             print(\"BOT : The price of {0} is {1}\".format(params[company], stock_search.get_price()))\n",
    "            answer.append(\"The price of {0} is {1}\".format(params[company], stock_search.get_price()))\n",
    "        intent_dict.append(intent)\n",
    "    # 查询意图是查询股票收盘价\n",
    "    if intent == 'close':\n",
    "        for ent in entities:\n",
    "            params[str(ent['entity']) + '_' + str(ent['value'])] = str(ent['value'])\n",
    "        for company in params:\n",
    "            stock_search = Stock(company_dict[str(params[company])])\n",
    "#             print(\"BOT : The close price of {0} is {1}\".format(params[company], stock_search.get_close()))\n",
    "            answer.append(\"The close price of {0} is {1}\".format(params[company], stock_search.get_close()))\n",
    "        intent_dict.append(intent)\n",
    "    # 查询意图是查询股票交易额\n",
    "    elif intent == 'volume':\n",
    "        for ent in entities:\n",
    "            params[str(ent['entity']) + '_' + str(ent['value'])] = str(ent['value'])\n",
    "        for company in params:\n",
    "            stock_search = Stock(company_dict[str(params[company])])\n",
    "#             print(\"BOT : The volume of {0} is {1}\".format(params[company], stock_search.get_volume()))\n",
    "            answer.append(\"The volume of {0} is {1}\".format(params[company], stock_search.get_volume()))\n",
    "        intent_dict.append(intent)\n",
    "    # 查询意图是查询股票市值\n",
    "    elif intent == 'value':\n",
    "        for ent in entities:\n",
    "            params[str(ent['entity']) + '_' + str(ent['value'])] = str(ent['value'])\n",
    "        for company in params:\n",
    "            stock_search = Stock(company_dict[str(params[company])])\n",
    "#             print(\"BOT : The value of {0} is {1}\".format(params[company], \n",
    "#                                                           stock_search.get_financials()[0]['totalAssets']))\n",
    "            answer.append(\"The value of {0} is {1}\".format(params[company], \n",
    "                                                          stock_search.get_financials()[0]['totalAssets']))\n",
    "        intent_dict.append(intent)\n",
    "    # 查询意图是对于之前的一些查询条件进行否定\n",
    "    elif intent == 'deny':\n",
    "        flag = False\n",
    "        for i in range(len(words)):\n",
    "            words[i] = words[i].lower()\n",
    "            if words[i] == 'no' or words[i] == 'not':\n",
    "                flag = True\n",
    "            key = 'company_' + str(words[i])\n",
    "            if key in params and flag:\n",
    "                params.pop(key)\n",
    "        # 根据上一次状态进行相应回复\n",
    "        if intent_dict[len(intent_dict)-1] == 'close':\n",
    "            for company in params:\n",
    "                stock_search = Stock(company_dict[str(params[company])])\n",
    "#                 print(\"BOT : The close price of {0} is {1}\".format(params[company], stock_search.get_close()))\n",
    "                answer.append(\"The close price of {0} is {1}\".format(params[company], stock_search.get_close()))\n",
    "        elif intent_dict[len(intent_dict)-1] == 'value':\n",
    "            for company in params:\n",
    "                stock_search = Stock(company_dict[str(params[company])])\n",
    "#                 print(\"BOT : The value of {0} is {1}\".format(params[company], \n",
    "#                                                           stock_search.get_financials()[0]['totalAssets']))\n",
    "                answer.append(\"The value of {0} is {1}\".format(params[company], \n",
    "                                                          stock_search.get_financials()[0]['totalAssets']))\n",
    "        elif intent_dict[len(intent_dict)-1] == 'volume':\n",
    "            for company in params:\n",
    "                stock_search = Stock(company_dict[str(params[company])])\n",
    "#                 print(\"BOT : The volume of {0} is {1}\".format(params[company], stock_search.get_volume()))\n",
    "                answer.append(\"The volume of {0} is {1}\".format(params[company], stock_search.get_volume()))\n",
    "        elif intent_dict[len(intent_dict)-1] == 'price':\n",
    "            for company in params:\n",
    "                stock_search = Stock(company_dict[str(params[company])])\n",
    "#                 print(\"BOT : The price of {0} is {1}\".format(params[company], stock_search.get_price()))\n",
    "                answer.append(\"The price of {0} is {1}\".format(params[company], stock_search.get_price()))\n",
    "    # 根据时间进行给定时间的股票信息查询\n",
    "    elif intent == 'time':\n",
    "        # 对于句子中的月和日进行解析\n",
    "        tmp = [str(i) for i in message.split()]\n",
    "        for i in range(len(tmp)):\n",
    "            if tmp[i] in month_list:\n",
    "                month = int(month_list[tmp[i]])\n",
    "            if re.search(pattern_day, tmp[i]) is not None:\n",
    "                day = int(pattern_num.findall(pattern_day.findall(tmp[i])[0])[0])\n",
    "            if re.search(pattern_year, tmp[i]) is not None:\n",
    "                year = int(pattern_year.findall(tmp[i])[0])\n",
    "            else:\n",
    "                year = 2018\n",
    "                if year >= 2019:\n",
    "#                     print('BOT : Sorry. Wrong about input date.')\n",
    "                    answer.append('Sorry. Wrong about input date.')\n",
    "                    return params, answer\n",
    "        start = datetime(year, month, day)\n",
    "        end = datetime(year, month, day)\n",
    "        if int(month) < 10:\n",
    "            month = '0' + str(month)\n",
    "        if int(day) < 10:\n",
    "            day = '0' + str(day)\n",
    "        params['time'] = str(year) + '-' + str(month) + '-' + str(day)\n",
    "        if intent_dict[len(intent_dict)-1] == 'value':\n",
    "            for company in params:\n",
    "                if company == 'time':\n",
    "                    continue\n",
    "                value_search = Stock(company_dict[str(params[company])])\n",
    "                data = value_search.get_financials()\n",
    "                for k in range(len(data)):\n",
    "                    if data[k]['reportDate'] <= params['time']:\n",
    "#                         print('BOT : The {3} of {0} at {1} is {2}.'.format(params[company], params['time'], \n",
    "#                                                                data[k]['totalAssets'], \n",
    "#                                                                            intent_dict[len(intent_dict)-1]))\n",
    "                        answer.append('The {3} of {0} at {1} is {2}.'.format(params[company], params['time'], \n",
    "                                                               data[k]['totalAssets'], \n",
    "                                                                           intent_dict[len(intent_dict)-1]))\n",
    "                        break\n",
    "                    else:\n",
    "                        continue\n",
    "        else:\n",
    "            for company in params:\n",
    "                if company == 'time':\n",
    "                    continue\n",
    "                info = get_historical_data(company_dict[str(params[company])], \n",
    "                                         start, end)\n",
    "                info_details = info[company_dict[params[company]]]\n",
    "                if str(params['time']) not in info_details:\n",
    "#                         print('BOT : Sorry. Wrong about input Date.')\n",
    "                        answer.append('Sorry. Wrong about input Date.')\n",
    "                        params['time'] = ''\n",
    "                        print(answer)\n",
    "                        return params, answer\n",
    "                result = info_details[str(params['time'])][intent_dict[len(intent_dict)-1]]\n",
    "#                 print('BOT : The {3} of {0} at {1} is {2}.'.format(params[company], params['time'], \n",
    "#                                                                result, intent_dict[len(intent_dict)-1]))\n",
    "                answer.append('The {3} of {0} at {1} is {2}.'.format(params[company], params['time'], \n",
    "                                                               result, intent_dict[len(intent_dict)-1]))\n",
    "        \n",
    "            params = {}\n",
    "    print(answer)\n",
    "    return params, answer\n"
   ]
  },
  {
   "cell_type": "code",
   "execution_count": 228,
   "metadata": {},
   "outputs": [
    {
     "name": "stdout",
     "output_type": "stream",
     "text": [
      "USER : hello\n",
      "['You can ask me for what you want.']\n",
      "USER : I would like to know the close price of Tesla and Apple.\n",
      "['Searching...', 'The close price of tesla is 354.31', 'The close price of apple is 193.53']\n",
      "USER : not tesla\n",
      "['Already delete. Searching...', 'The close price of apple is 193.53']\n",
      "USER : How about March 8th\n",
      "['Searching for details...', 'The close of apple at 2018-03-08 is 175.0336.']\n",
      "USER : I want to know the Apple's close price.\n",
      "['Searching...', 'The close price of apple is 193.53']\n",
      "USER : How about February 20th in 2017\n",
      "['Searching for details...', 'Sorry. Wrong about input Date.']\n",
      "USER : How about February 21th in 2017\n",
      "['Searching for details...', 'The close of apple at 2017-02-21 is 133.1211.']\n",
      "USER : I want to know the price of Apple and Tesla\n",
      "['Searching...', 'The price of apple is 193.53', 'The price of tesla is 354.31']\n",
      "USER : not Apple\n",
      "['Already delete. Searching...', 'The price of tesla is 354.31']\n"
     ]
    },
    {
     "name": "stderr",
     "output_type": "stream",
     "text": [
      "\n",
      "An error occurred in <function reply_my_friend at 0xd31412b70>.\n",
      "Traceback (most recent call last):\n",
      "  File \"/Users/linhefeng/anaconda3/lib/python3.6/site-packages/wxpy/api/bot.py\", line 326, in process\n",
      "    ret = config.func(msg)\n",
      "  File \"<ipython-input-226-708017162d91>\", line 5, in reply_my_friend\n",
      "    result = test(msg)\n",
      "  File \"<ipython-input-225-078a649b49da>\", line 8, in test\n",
      "    state, params, answer = send_message(str(msg.text), policy, state, params, intent_dict, answer)\n",
      "  File \"<ipython-input-199-313ba6aa132e>\", line 5, in send_message\n",
      "    new_state, response, params, answer = respond(policy, state, message, params, intent_dict, answer)\n",
      "  File \"<ipython-input-199-313ba6aa132e>\", line 10, in respond\n",
      "    (new_state, response) = policy[(state, interpret(message))]\n",
      "KeyError: (5, 'volume')\n"
     ]
    },
    {
     "name": "stdout",
     "output_type": "stream",
     "text": [
      "USER : 嗯嗯\n"
     ]
    }
   ],
   "source": [
    "state = INIT\n",
    "params = {}\n",
    "intent_dict = []\n",
    "answer = []\n",
    "state, params, answer = send_message('hello', policy, state, params, intent_dict, answer)\n",
    "state, params, answer = send_message('I would like to know the close price of Tesla and Apple.', \n",
    "                             policy, state, params, intent_dict, answer)\n",
    "state, params, answer = send_message('not tesla', policy, state, params, intent_dict, answer)\n",
    "state, params, answer = send_message(\"How about March 8th\", policy, state, params, intent_dict, answer)\n",
    "state, params, answer = send_message(\"I want to know the Apple's close price.\", policy, state, params, intent_dict, answer)\n",
    "state, params, answer = send_message(\"How about February 20th in 2017\", policy, state, params, intent_dict, answer)\n",
    "state, params, answer = send_message(\"How about February 21th in 2017\", policy, state, params, intent_dict, answer)\n",
    "state, params, answer = send_message(\"I want to know the price of Apple and Tesla\", \n",
    "                             policy, state, params, intent_dict, answer)\n",
    "state, params, answer = send_message(\"not Apple\", policy, state, params, intent_dict, answer)\n",
    "# state, params, answer = send_message(\"I want to know the close price of Apple.\", policy, state, params, intent_dict, answer)\n",
    "# state, params, answer = send_message(\"Tell me the close price of Tesla.\", policy, state, params, intent_dict, answer)\n",
    "# aapl.get_financials()"
   ]
  },
  {
   "cell_type": "code",
   "execution_count": 230,
   "metadata": {},
   "outputs": [
    {
     "name": "stderr",
     "output_type": "stream",
     "text": [
      "Getting uuid of QR code.\n",
      "Downloading QR code.\n",
      "Please scan the QR code to log in.\n",
      "Please press confirm on your phone.\n",
      "Loading the contact, this may take a little while.\n",
      "Login successfully as Mccpiggy\n"
     ]
    }
   ],
   "source": [
    "from wxpy import *\n",
    "\n",
    "bot = Bot()"
   ]
  },
  {
   "cell_type": "code",
   "execution_count": 231,
   "metadata": {},
   "outputs": [
    {
     "name": "stdout",
     "output_type": "stream",
     "text": [
      "[<Friend: 孙誉铭>]\n"
     ]
    }
   ],
   "source": [
    "#coding=utf8\n",
    "my_friend = bot.friends().search('孙誉铭', sex=FEMALE)\n",
    "print(my_friend)"
   ]
  },
  {
   "cell_type": "code",
   "execution_count": 237,
   "metadata": {},
   "outputs": [],
   "source": [
    "state = INIT\n",
    "params = {}\n",
    "intent_dict = []\n",
    "answer = []\n",
    "\n",
    "def test(msg):\n",
    "    global state, params, answer\n",
    "    state, params, answer = send_message(str(msg.text), policy, state, params, intent_dict, answer)\n",
    "    return answer"
   ]
  },
  {
   "cell_type": "code",
   "execution_count": 238,
   "metadata": {},
   "outputs": [
    {
     "name": "stdout",
     "output_type": "stream",
     "text": [
      "USER : hello\n",
      "['You can ask me for what you want.']\n",
      "USER : I want to know the close price of Tesla and Apple.\n",
      "['Searching...', 'The close price of tesla is 354.31', 'The close price of apple is 193.53']\n",
      "USER : not Tesla\n",
      "['Already delete. Searching...', 'The close price of apple is 193.53']\n",
      "USER : How about March 8th?\n",
      "['Searching for details...', 'The close of apple at 2018-03-08 is 175.0336.']\n",
      "USER : I want to know the Apple's close price.\n",
      "['Searching...', 'The close price of apple is 193.53']\n",
      "USER : How about February 20th in 2017?\n",
      "['Searching for details...', 'Sorry. Wrong about input Date.']\n",
      "USER : How about February 21th in 2017?\n",
      "['Searching for details...', 'The close of apple at 2017-02-21 is 133.1211.']\n",
      "USER : I want to know the price of Apple and Tesla.\n",
      "['Searching...', 'The price of apple is 193.53', 'The price of tesla is 354.31']\n",
      "USER : not Apple\n",
      "['Already delete. Searching...', 'The price of tesla is 354.31']\n"
     ]
    }
   ],
   "source": [
    "@bot.register(my_friend)\n",
    "def reply_my_friend(msg):\n",
    "#     global state, params, answer\n",
    "#     state, params, answer = send_message(str(msg.text), policy, state, params, intent_dict, answer)\n",
    "    result = test(msg)\n",
    "    for i in range(len(result)):\n",
    "        msg.reply(result[i])\n",
    "bot.join()"
   ]
  },
  {
   "cell_type": "code",
   "execution_count": 229,
   "metadata": {},
   "outputs": [
    {
     "name": "stderr",
     "output_type": "stream",
     "text": [
      "LOG OUT!\n"
     ]
    },
    {
     "data": {
      "text/plain": [
       "<ItchatReturnValue: {'BaseResponse': {'ErrMsg': '请求成功', 'Ret': 0, 'RawMsg': 'logout successfully.'}}>"
      ]
     },
     "execution_count": 229,
     "metadata": {},
     "output_type": "execute_result"
    }
   ],
   "source": [
    "bot.logout()"
   ]
  }
 ],
 "metadata": {
  "kernelspec": {
   "display_name": "Python 3",
   "language": "python",
   "name": "python3"
  },
  "language_info": {
   "codemirror_mode": {
    "name": "ipython",
    "version": 3
   },
   "file_extension": ".py",
   "mimetype": "text/x-python",
   "name": "python",
   "nbconvert_exporter": "python",
   "pygments_lexer": "ipython3",
   "version": "3.6.6"
  }
 },
 "nbformat": 4,
 "nbformat_minor": 2
}
